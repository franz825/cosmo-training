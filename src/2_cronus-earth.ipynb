{
 "cells": [
  {
   "cell_type": "markdown",
   "metadata": {},
   "source": [
    "# River terraces datation: an hypothetical example\n",
    "\n",
    "## The online exposure age calculator\n",
    "\n",
    "Online tools exist to compute exposure ages based on cosmogenic radionuclide concentrations measured in surface samples, such as the \"online exposure age calculator\" formerly known as the \"CRONUS-Earth\" ([Balco et al., 2008](https://www.sciencedirect.com/science/article/pii/S1871101407000647)). It is available here: [https://hess.ess.washington.edu/](https://hess.ess.washington.edu/). \n",
    "\n",
    "## Surface exposure dating from samples\n",
    "\n",
    "Let's consider two samples taken from two different river terraces. For these two samples, we measure the following <sup>10</sup>Be concentrations: \n",
    "\n",
    "| Name     | 10-Be concentration | 10-Be uncertainty |\n",
    "| -------- | ------------------- | ----------------- |\n",
    "| Sample 1 | 12.21               | 4.35              |\n",
    "| Sample 2 | 123.54              | 23.57             |\n",
    "| Sample 3 | 458.36              | 50.36             |\n",
    "\n",
    "Open the [calculator](https://hess.ess.washington.edu/) and choose \"Calculate exposure ages\", as we are here interested to compute surface exposure ages based on <sup>10</sup>Be concentrations. However, note that you can also compute erosion rates or calibrate production rates, based on other nuclides. \n",
    "\n",
    "The calculator reads text lines, defining input values, that you write or paste in the \"Sample data entry\" box. Once filled, simply click on the `Calculate now` button to compute the exposure age. The simplest [structure](https://hess.ess.washington.edu/math/docs/v3/v3_input_explained.html) is as follows: \n",
    "\n",
    "- A first line for the sample, depicting the location, the thickness and the density.\n",
    "- Following lines contain nuclide concentrations, uncertainties and standardizations.\n",
    "\n",
    "In our example, the samples can be characterized as follows: \n",
    "\n",
    "```\n",
    "\tsample-1\t41.3567\t-70.7348\t91\tstd\t4.5\t2.65\t1\t0.00008\t1999;\n",
    "\tsample-2\tBe-10\tquartz\t123453\t3717\tKNSTD;\n",
    "```\n",
    "\n",
    "Copy these lines "
   ]
  },
  {
   "cell_type": "code",
   "execution_count": null,
   "metadata": {},
   "outputs": [],
   "source": [
    "# Import packages\n",
    "import numpy as np"
   ]
  }
 ],
 "metadata": {
  "kernelspec": {
   "display_name": "Python 3.8.10 64-bit",
   "language": "python",
   "name": "python3"
  },
  "language_info": {
   "name": "python",
   "version": "3.8.10"
  },
  "orig_nbformat": 4,
  "vscode": {
   "interpreter": {
    "hash": "916dbcbb3f70747c44a77c7bcd40155683ae19c65e1c03b4aa3499c5328201f1"
   }
  }
 },
 "nbformat": 4,
 "nbformat_minor": 2
}
