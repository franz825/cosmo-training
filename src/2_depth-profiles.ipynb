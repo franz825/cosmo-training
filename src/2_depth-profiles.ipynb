{
 "cells": [
  {
   "cell_type": "markdown",
   "metadata": {},
   "source": [
    "# Samples datation: an hypothetical example\n",
    "\n",
    "## The online exposure age calculator\n",
    "\n",
    "Online tools exist to compute exposure ages based on cosmogenic radionuclide concentrations measured in surface samples, such as the \"online exposure age calculator\" formerly known as the \"CRONUS-Earth\" ([Balco et al., 2008](https://www.sciencedirect.com/science/article/pii/S1871101407000647)). It is available here: [https://hess.ess.washington.edu/](https://hess.ess.washington.edu/). \n",
    "\n",
    "## Surface exposure dating from samples in an upland area\n",
    "\n",
    "Two positions P1 and P2, formerly covered by a glacier (in red on the Figure), are sampled in an upland area for CRN depth profiles. Position P2 is higher in altitude, and was presumably exhumed after P1, as result of the glacier progressive retreat. \n",
    "\n",
    "![samples-location](../guidelines/imgs/samples-exposure-age.png)\n",
    "\n",
    "The <sup>10</sup>Be concentrations are given in function of depth in the table below.  \n",
    "\n",
    "| Depth (m)          | 10Be conc. (x 10³ at/g) | 10Be conc. (x 10³ at/g) |\n",
    "| ------------------ | ----------------------- | ----------------------- |\n",
    "| 0.0                | 123                     | 328                     |\n",
    "| 0.5                | 57                      | 146                     |\n",
    "| 0.75               | 39                      | 98                      |\n",
    "| 1                  | 28                      | 66                      |\n",
    "| 1.3                | 19                      | 42                      |\n",
    "| 1.6                | 13                      | 27                      |\n",
    "| 2.5                | 7                       | 9                       |\n",
    "| 4                  | 4                       | 4                       |\n",
    "| 7                  | 3                       | 2                       |\n",
    "\n",
    "Open the [calculator](https://hess.ess.washington.edu/) and choose \"Calculate exposure ages\", as we are here interested to compute surface exposure ages based on <sup>10</sup>Be concentrations. However, note that you can also compute erosion rates or calibrate production rates, based on other nuclides. \n",
    "\n",
    "The calculator reads text lines, defining input values, that you write or paste in the \"Sample data entry\" box. Once filled, simply click on the `Calculate now` button to compute the exposure age. The simplest [structure](https://hess.ess.washington.edu/math/docs/v3/v3_input_explained.html) is as follows: \n",
    "\n",
    "- A first line for the sample, depicting the location, the thickness and the density.\n",
    "- Following lines contain nuclide concentrations, uncertainties and standardizations.\n",
    "\n",
    "In our example, the samples can be characterized as follows: \n",
    "\n",
    "```\n",
    "sample-1\t41.3567\t-70.7348\t91\tstd\t4.5\t2.65\t1\t0.00008\t1999;\n",
    "sample-1\tBe-10\tquartz\t123453\t3717\tKNSTD;\n",
    "```\n",
    "\n",
    "Copy these lines in the calculator box and compute the exposure age for each position. \n",
    "\n",
    "**QUESTION**\n",
    "\n",
    "1. Does the result seem logical to you? Why? \n",
    "2. What could have influenced the CRN value observed at the surface ?\n",
    "\n",
    "## Depth profiles\n",
    "\n",
    "First, run the cell below to set the working environment (no need to understand these lines of code). If Google Colab warns about the trustfullness of the code, click on `Run anyway`."
   ]
  },
  {
   "cell_type": "code",
   "execution_count": null,
   "metadata": {},
   "outputs": [],
   "source": [
    "# Import packages\n",
    "import matplotlib.pyplot as plt\n",
    "import numpy as np\n",
    "import pandas as pd\n",
    "import plotly.express as px\n",
    "from IPython.display import display\n",
    "from IPython import get_ipython\n",
    "import os, sys, platform, shutil\n",
    "\n",
    "# Define root directory according to current environment\n",
    "if 'google.colab' in str(get_ipython()):\n",
    "\n",
    "    dir_root = \"/content/cosmo-training\"\n",
    "\n",
    "    if os.path.exists(dir_root):\n",
    "      shutil.rmtree(dir_root)\n",
    "\n",
    "    !git clone https://github.com/franz825/cosmo-training\n",
    "\n",
    "else:\n",
    "    # Path to root directory (repository)\n",
    "    dir_root = os.path.dirname(sys.path[0])\n",
    "\n",
    "# Import custom functions for CRN computation\n",
    "sys.path.append(dir_root)\n",
    "from src.functions.get_parameters_values import get_parameters_values\n",
    "from src.functions.compute_depth_profile import compute_nash_index, be_accumulator"
   ]
  },
  {
   "cell_type": "markdown",
   "metadata": {},
   "source": [
    "Let's convert the depth profile table into a dataframe in order to plot the data and use it for further computation."
   ]
  },
  {
   "cell_type": "code",
   "execution_count": null,
   "metadata": {},
   "outputs": [],
   "source": [
    "# Depth profiles data, with depth in cm and concentration in at/g\n",
    "depths = [0, 50, 75, 100, 130, 160, 250, 400, 700]\n",
    "\n",
    "# Concentrations profile 1\n",
    "profile_1 = pd.DataFrame({\n",
    "    \"depth\": depths,\n",
    "    \"concentration\": [123000, 57000, 39000, 28000, 19000, 13000, 7000, 4000, 3000],\n",
    "    \"profile\": pd.Series(np.repeat(1, len(depths)))\n",
    "    })\n",
    "profile_1[\"data\"] = \"observed\"\n",
    "\n",
    "# Concentrations profile 2\n",
    "profile_2 = pd.DataFrame({\n",
    "    \"depth\": depths,\n",
    "    \"concentration\": [328000, 146000, 98000, 66000, 42000, 27000, 9000, 1000, 2000],\n",
    "    \"profile\": pd.Series(np.repeat(2, len(depths)))\n",
    "    })\n",
    "profile_2[\"data\"] = \"observed\"\n",
    "\n",
    "# Merge profiles into a single table\n",
    "depth_profiles = pd.concat([profile_1, profile_2], axis = 0)\n",
    "\n",
    "display(depth_profiles)\n",
    "\n",
    "# depth_profiles = pd.DataFrame(\n",
    "#     {\n",
    "#         \"depth\": [0, 50, 75, 100, 130, 160, 250, 400, 700],\n",
    "#         \"conc_p1\": [123000, 57000, 39000, 28000, 19000, 13000, 7000, 4000, 3000],\n",
    "#         \"conc_p2\": [328000, 146000, 98000, 66000, 42000, 27000, 9000, 1000, 2000],\n",
    "#         })\n"
   ]
  },
  {
   "cell_type": "markdown",
   "metadata": {},
   "source": [
    "Now, we can plot the concentrations observed in each depth profile."
   ]
  },
  {
   "cell_type": "code",
   "execution_count": null,
   "metadata": {},
   "outputs": [],
   "source": [
    "depth_profiles[\"profile_string\"] = depth_profiles[\"profile\"].astype(str)\n",
    "\n",
    "# Plot depth profiles\n",
    "plot = px.scatter(depth_profiles, x = \"concentration\", y = \"depth\", color = \"profile_string\", labels = dict(concentration = \"<sup>10</sup>Be concentration (at/g)\", depth = \"Depth (cm)\", profile_string = \"Profile\"))\n",
    "plot.update_yaxes(autorange = \"reversed\")\n",
    "plot.update_layout(xaxis = {'side': 'top'})\n",
    "plot.show()"
   ]
  },
  {
   "cell_type": "markdown",
   "metadata": {},
   "source": [
    "The aim is now to find the pair of values for erosion rate and exposure age that best fit the two depth profiles, using the Nash-Suthcliffe optimization. To achieve this goal, we will model the depth profile for different combinations of erosion and exposure age values, as defined below: "
   ]
  },
  {
   "cell_type": "code",
   "execution_count": null,
   "metadata": {},
   "outputs": [],
   "source": [
    "# Erosion values (cm)\n",
    "erosion = [0, 100, 200, 500, 1000, 2000]\n",
    "print(\"Erosion (cm): \")\n",
    "display(erosion)\n",
    "\n",
    "# Exposure age values (a)\n",
    "exposure_ages = [20000, 40000, 60000, 80000, 100000, 120000, 140000]\n",
    "print(\"Exposure ages (a): \")\n",
    "display(exposure_ages)\n",
    "\n",
    "# Parameters of CRN modelling\n",
    "parameters = get_parameters_values()\n",
    "print(\"Parameters for CRN modelling: \")\n",
    "display(parameters)"
   ]
  },
  {
   "cell_type": "markdown",
   "metadata": {},
   "source": [
    "Let's loop within the defined values to run the depth profile modelling, and collect modelled concentrations along with Nash-Sutcliffe values. The optimization is achieved for the two profiles independently.\n",
    "\n",
    "### Profile 1\n",
    "\n",
    "Below, we optimize the profile 1."
   ]
  },
  {
   "cell_type": "code",
   "execution_count": null,
   "metadata": {},
   "outputs": [],
   "source": [
    "# CRN concentrations for profile 1\n",
    "concentrations_profile_1 = depth_profiles.loc[depth_profiles[\"profile\"] == 1][\"concentration\"].to_numpy()\n",
    "\n",
    "# Container for optimization results\n",
    "fit_profile_1 = pd.DataFrame()\n",
    "\n",
    "# Loop within erosion rates \n",
    "for i in range(len(erosion)):\n",
    "\n",
    "    # Loop within exposure ages\n",
    "    for j in range(len(exposure_ages)):\n",
    "\n",
    "        # Run optimization for current set of values\n",
    "        crn_fit = be_accumulator(concentrations_profile_1, depths, exposure_ages[j], erosion[i], 0, parameters)\n",
    "        # Collect result into temporary dataframe\n",
    "        current_fit = pd.DataFrame({\"erosion\": erosion[i], \"exposure_age\": exposure_ages[j], \"nash_index\": [crn_fit[\"nash_index\"]]})\n",
    "        # Collect current result in to main container\n",
    "        fit_profile_1 = pd.concat([fit_profile_1, current_fit], axis = 0)\n",
    "\n",
    "display(fit_profile_1)"
   ]
  },
  {
   "cell_type": "markdown",
   "metadata": {},
   "source": [
    "Select the pair of values that provides a Nash-Sutcliffe value closest to 1, i.e. the largest value, that will correspond to our best scenario, optimizing the exposure age and the erosion of the observed depth profile."
   ]
  },
  {
   "cell_type": "code",
   "execution_count": null,
   "metadata": {},
   "outputs": [],
   "source": [
    "# Get row for which nash_index has the maximum value in the column. \n",
    "fit_profile_1[fit_profile_1.nash_index == fit_profile_1.nash_index.max()]"
   ]
  },
  {
   "cell_type": "markdown",
   "metadata": {},
   "source": [
    "Let's now select the best scenario and get the modelled <sup>10</sup>Be concentrations at each depth."
   ]
  },
  {
   "cell_type": "code",
   "execution_count": null,
   "metadata": {},
   "outputs": [],
   "source": [
    "# Erosion rate of selected scenario\n",
    "erosion_rate = 200\n",
    "# Exposure age of selected scenario\n",
    "exposure_age = 200000\n",
    "\n",
    "# Run the scenario with the selected values\n",
    "crn_fit_1 = be_accumulator(concentrations_profile_1, depths, exposure_age, erosion_rate, 0, parameters)\n",
    "\n",
    "# Get the fitted CRN values and add them to profile table\n",
    "display(pd.concat([profile_1, pd.Series(crn_fit_1[\"crn_fitted\"], name = \"crn_fitted\", dtype = \"Float64\")], axis = 1))"
   ]
  },
  {
   "cell_type": "markdown",
   "metadata": {},
   "source": [
    "And we can plot the modelled CRN values along with the observed ones."
   ]
  },
  {
   "cell_type": "code",
   "execution_count": null,
   "metadata": {},
   "outputs": [],
   "source": [
    "# Re-arrange the data to provide a table suitable for a proper plot\n",
    "profile_1_fit = pd.DataFrame({\"depth\": depths, \"concentration\": pd.Series(crn_fit_1[\"crn_fitted\"], name = \"crn_fitted\", dtype = \"Float64\"), \"profile\": pd.Series(np.repeat(1, len(depths)))})\n",
    "profile_1_fit[\"data\"] = \"fitted\"\n",
    "# Append data to observed values\n",
    "profile_1_plot = pd.concat([profile_1, profile_1_fit], axis = 0)\n",
    "\n",
    "# Plot depth profile\n",
    "plot = px.scatter(profile_1_plot, x = \"concentration\", y = \"depth\", color = \"data\", labels = dict(concentration = \"<sup>10</sup>Be concentration (at/g)\", depth = \"Depth (cm)\", data = \"Data\"))\n",
    "plot.update_yaxes(autorange = \"reversed\")\n",
    "plot.update_layout(xaxis = {'side': 'top'}, title = \"Profile 1\")\n",
    "plot.show()"
   ]
  },
  {
   "cell_type": "markdown",
   "metadata": {},
   "source": [
    "## Profile 2\n",
    "\n",
    "Now, we will apply the same workflow for the second profile. "
   ]
  },
  {
   "cell_type": "code",
   "execution_count": null,
   "metadata": {},
   "outputs": [],
   "source": [
    "# CRN concentrations for profile 2\n",
    "concentrations_profile_2 = depth_profiles.loc[depth_profiles[\"profile\"] == 2][\"concentration\"].to_numpy()\n",
    "\n",
    "# Container for optimization results\n",
    "fit_profile_2 = pd.DataFrame()\n",
    "\n",
    "# Loop within erosion rates \n",
    "for i in range(len(erosion_rates)):\n",
    "\n",
    "    # Loop within exposure ages\n",
    "    for j in range(len(exposure_ages)):\n",
    "\n",
    "        # Run optimization for current set of values\n",
    "        crn_fit = be_accumulator(concentrations_profile_2, depths, exposure_ages[j], erosion_rates[i], 0, parameters)\n",
    "        # Collect result into temporary dataframe\n",
    "        current_fit = pd.DataFrame({\"erosion_rate\": erosion_rates[i], \"exposure_age\": exposure_ages[j], \"nash_index\": [crn_fit[\"nash_index\"]]})\n",
    "        # Collect current result in to main container\n",
    "        fit_profile_2 = pd.concat([fit_profile_2, current_fit], axis = 0)\n",
    "\n",
    "display(fit_profile_2)"
   ]
  },
  {
   "cell_type": "markdown",
   "metadata": {},
   "source": [
    "Select the pair of values that provides a Nash-Sutcliffe value closest to 1, i.e. the largest value, that will correspond to our best scenario, optimizing the observed depth profile."
   ]
  },
  {
   "cell_type": "code",
   "execution_count": null,
   "metadata": {},
   "outputs": [],
   "source": [
    "# Get row for which nash_index has the maximum value in the column. \n",
    "fit_profile_2[fit_profile_2.nash_index == fit_profile_2.nash_index.max()]"
   ]
  },
  {
   "cell_type": "markdown",
   "metadata": {},
   "source": [
    "Let's now select the best scenario and get the modelled <sup>10</sup>Be concentrations at each depth."
   ]
  },
  {
   "cell_type": "code",
   "execution_count": null,
   "metadata": {},
   "outputs": [],
   "source": [
    "# Erosion rate of selected scenario\n",
    "erosion_rate = 200\n",
    "# Exposure age of selected scenario\n",
    "exposure_age = 200000\n",
    "\n",
    "# Run the scenario with the selected values\n",
    "crn_fit_2 = be_accumulator(concentrations_profile_2, depths, exposure_age, erosion_rate, 0, parameters)\n",
    "\n",
    "# Get the fitted CRN values and add them to profile table\n",
    "display(pd.concat([profile_2, pd.Series(crn_fit_2[\"crn_fitted\"], name = \"crn_fitted\", dtype = \"Float64\")], axis = 1))"
   ]
  },
  {
   "cell_type": "markdown",
   "metadata": {},
   "source": [
    "And we can plot the modelled CRN values along with the observed ones."
   ]
  },
  {
   "cell_type": "code",
   "execution_count": null,
   "metadata": {},
   "outputs": [],
   "source": [
    "# Re-arrange the data to provide a table suitable for a proper plot\n",
    "profile_2_fit = pd.DataFrame({\"depth\": depths, \"concentration\": pd.Series(crn_fit_2[\"crn_fitted\"], name = \"crn_fitted\", dtype = \"Float64\"), \"profile\": pd.Series(np.repeat(2, len(depths)))})\n",
    "profile_2_fit[\"data\"] = \"fitted\"\n",
    "# Append data to observed values\n",
    "profile_2_plot = pd.concat([profile_2, profile_2_fit], axis = 0)\n",
    "\n",
    "# Plot depth profile\n",
    "plot = px.scatter(profile_2_plot, x = \"concentration\", y = \"depth\", color = \"data\", labels = dict(concentration = \"<sup>10</sup>Be concentration (at/g)\", depth = \"Depth (cm)\", data = \"Data\"))\n",
    "plot.update_yaxes(autorange = \"reversed\")\n",
    "plot.update_layout(xaxis = {'side': 'top'}, title = \"Profile 2\")\n",
    "plot.show()"
   ]
  },
  {
   "cell_type": "markdown",
   "metadata": {},
   "source": [
    "## Interpretation \n",
    "\n",
    "Based on the Nash-Sutcliffe optimization criterion (best value is a maximization and should approach as close as possible to 1), how would you describe the main steps of the landscape's history ?"
   ]
  }
 ],
 "metadata": {
  "kernelspec": {
   "display_name": "Python 3.9.7 ('base')",
   "language": "python",
   "name": "python3"
  },
  "language_info": {
   "codemirror_mode": {
    "name": "ipython",
    "version": 3
   },
   "file_extension": ".py",
   "mimetype": "text/x-python",
   "name": "python",
   "nbconvert_exporter": "python",
   "pygments_lexer": "ipython3",
   "version": "3.9.7"
  },
  "orig_nbformat": 4,
  "vscode": {
   "interpreter": {
    "hash": "293b0e4ba064906a8557b4eaa242189f34a3eaea729f1289734fdcf46cd0b2b8"
   }
  }
 },
 "nbformat": 4,
 "nbformat_minor": 2
}
