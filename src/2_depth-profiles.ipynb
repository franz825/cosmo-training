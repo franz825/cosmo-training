{
 "cells": [
  {
   "cell_type": "markdown",
   "metadata": {},
   "source": [
    "# Samples datation: an hypothetical example\n",
    "\n",
    "## The online exposure age calculator\n",
    "\n",
    "Online tools exist to compute exposure ages based on cosmogenic radionuclide concentrations measured in surface samples, such as the \"online exposure age calculator\" formerly known as the \"CRONUS-Earth\" ([Balco et al., 2008](https://www.sciencedirect.com/science/article/pii/S1871101407000647)). It is available here: [https://hess.ess.washington.edu/](https://hess.ess.washington.edu/). \n",
    "\n",
    "## Surface exposure dating from samples in an upland area\n",
    "\n",
    "Two positions P1 and P2, formerly covered by a glacier (in red on the Figure), are sampled in an upland area for CRN depth profiles. Position P2 is higher in altitude, and was presumably exhumed after P1, as result of the glacier progressive retreat. \n",
    "\n",
    "![samples-location](../guidelines/imgs/samples-exposure-age.png)\n",
    "\n",
    "The <sup>10</sup>Be concentrations are given in function of depth in the table below.  \n",
    "\n",
    "| Depth (m)          | 10Be conc. (x 10³ at/g) | 10Be conc. (x 10³ at/g) |\n",
    "| ------------------ | ----------------------- | ----------------------- |\n",
    "| 0.0                | 123                     | 328                     |\n",
    "| 0.5                | 57                      | 146                     |\n",
    "| 0.75               | 39                      | 98                      |\n",
    "| 1                  | 28                      | 66                      |\n",
    "| 1.3                | 19                      | 42                      |\n",
    "| 1.6                | 13                      | 27                      |\n",
    "| 2.5                | 7                       | 9                       |\n",
    "| 4                  | 4                       | 4                       |\n",
    "| 7                  | 3                       | 2                       |\n",
    "\n",
    "Open the [calculator](https://hess.ess.washington.edu/) and choose \"Calculate exposure ages\", as we are here interested to compute surface exposure ages based on <sup>10</sup>Be concentrations. However, note that you can also compute erosion rates or calibrate production rates, based on other nuclides. \n",
    "\n",
    "The calculator reads text lines, defining input values, that you write or paste in the \"Sample data entry\" box. Once filled, simply click on the `Calculate now` button to compute the exposure age. The simplest [structure](https://hess.ess.washington.edu/math/docs/v3/v3_input_explained.html) is as follows: \n",
    "\n",
    "- A first line for the sample, depicting the location, the thickness and the density.\n",
    "- Following lines contain nuclide concentrations, uncertainties and standardizations.\n",
    "\n",
    "In our example, the samples can be characterized as follows: \n",
    "\n",
    "```\n",
    "sample-1\t41.3567\t-70.7348\t91\tstd\t4.5\t2.65\t1\t0.00008\t1999;\n",
    "sample-1\tBe-10\tquartz\t123453\t3717\tKNSTD;\n",
    "```\n",
    "\n",
    "Copy these lines in the calculator box and compute the exposure age for each position. \n",
    "\n",
    "**QUESTIONS**\n",
    "\n",
    "1. Does the result seem logical to you? Why? \n",
    "2. What could have influenced the CRN value observed at the surface ?\n",
    "\n",
    "## Depth profiles\n",
    "\n",
    "First, run the cell below to set the working environment (no need to understand these lines of code). If Google Colab warns about the trustfullness of the code, click on `Run anyway`."
   ]
  },
  {
   "cell_type": "code",
   "execution_count": 1,
   "metadata": {},
   "outputs": [],
   "source": [
    "# Import packages\n",
    "import matplotlib.pyplot as plt\n",
    "import numpy as np\n",
    "import pandas as pd\n",
    "import plotly.express as px\n",
    "from IPython.display import display\n",
    "from IPython import get_ipython\n",
    "import os, sys, platform, shutil\n",
    "\n",
    "# Define root directory according to current environment\n",
    "if 'google.colab' in str(get_ipython()):\n",
    "\n",
    "    dir_root = \"/content/cosmo-training\"\n",
    "\n",
    "    if os.path.exists(dir_root):\n",
    "      shutil.rmtree(dir_root)\n",
    "\n",
    "    !git clone https://github.com/franz825/cosmo-training\n",
    "\n",
    "else:\n",
    "    # Path to root directory (repository)\n",
    "    dir_root = os.path.dirname(sys.path[0])\n",
    "\n",
    "# Import custom functions for CRN computation\n",
    "sys.path.append(dir_root)\n",
    "from src.functions.get_parameters_values import get_parameters_values\n",
    "from src.functions.compute_depth_profile import compute_nash_index, be_accumulator"
   ]
  },
  {
   "cell_type": "markdown",
   "metadata": {},
   "source": [
    "Let's convert the depth profile table into a dataframe in order to plot the data and use it for further computation."
   ]
  },
  {
   "cell_type": "code",
   "execution_count": 2,
   "metadata": {},
   "outputs": [
    {
     "data": {
      "text/html": [
       "<div>\n",
       "<style scoped>\n",
       "    .dataframe tbody tr th:only-of-type {\n",
       "        vertical-align: middle;\n",
       "    }\n",
       "\n",
       "    .dataframe tbody tr th {\n",
       "        vertical-align: top;\n",
       "    }\n",
       "\n",
       "    .dataframe thead th {\n",
       "        text-align: right;\n",
       "    }\n",
       "</style>\n",
       "<table border=\"1\" class=\"dataframe\">\n",
       "  <thead>\n",
       "    <tr style=\"text-align: right;\">\n",
       "      <th></th>\n",
       "      <th>depth</th>\n",
       "      <th>concentration</th>\n",
       "      <th>profile</th>\n",
       "      <th>data</th>\n",
       "    </tr>\n",
       "  </thead>\n",
       "  <tbody>\n",
       "    <tr>\n",
       "      <th>0</th>\n",
       "      <td>0</td>\n",
       "      <td>123000</td>\n",
       "      <td>1</td>\n",
       "      <td>observed</td>\n",
       "    </tr>\n",
       "    <tr>\n",
       "      <th>1</th>\n",
       "      <td>50</td>\n",
       "      <td>57000</td>\n",
       "      <td>1</td>\n",
       "      <td>observed</td>\n",
       "    </tr>\n",
       "    <tr>\n",
       "      <th>2</th>\n",
       "      <td>75</td>\n",
       "      <td>39000</td>\n",
       "      <td>1</td>\n",
       "      <td>observed</td>\n",
       "    </tr>\n",
       "    <tr>\n",
       "      <th>3</th>\n",
       "      <td>100</td>\n",
       "      <td>28000</td>\n",
       "      <td>1</td>\n",
       "      <td>observed</td>\n",
       "    </tr>\n",
       "    <tr>\n",
       "      <th>4</th>\n",
       "      <td>130</td>\n",
       "      <td>19000</td>\n",
       "      <td>1</td>\n",
       "      <td>observed</td>\n",
       "    </tr>\n",
       "    <tr>\n",
       "      <th>5</th>\n",
       "      <td>160</td>\n",
       "      <td>13000</td>\n",
       "      <td>1</td>\n",
       "      <td>observed</td>\n",
       "    </tr>\n",
       "    <tr>\n",
       "      <th>6</th>\n",
       "      <td>250</td>\n",
       "      <td>7000</td>\n",
       "      <td>1</td>\n",
       "      <td>observed</td>\n",
       "    </tr>\n",
       "    <tr>\n",
       "      <th>7</th>\n",
       "      <td>400</td>\n",
       "      <td>4000</td>\n",
       "      <td>1</td>\n",
       "      <td>observed</td>\n",
       "    </tr>\n",
       "    <tr>\n",
       "      <th>8</th>\n",
       "      <td>700</td>\n",
       "      <td>3000</td>\n",
       "      <td>1</td>\n",
       "      <td>observed</td>\n",
       "    </tr>\n",
       "    <tr>\n",
       "      <th>0</th>\n",
       "      <td>0</td>\n",
       "      <td>328000</td>\n",
       "      <td>2</td>\n",
       "      <td>observed</td>\n",
       "    </tr>\n",
       "    <tr>\n",
       "      <th>1</th>\n",
       "      <td>50</td>\n",
       "      <td>146000</td>\n",
       "      <td>2</td>\n",
       "      <td>observed</td>\n",
       "    </tr>\n",
       "    <tr>\n",
       "      <th>2</th>\n",
       "      <td>75</td>\n",
       "      <td>98000</td>\n",
       "      <td>2</td>\n",
       "      <td>observed</td>\n",
       "    </tr>\n",
       "    <tr>\n",
       "      <th>3</th>\n",
       "      <td>100</td>\n",
       "      <td>66000</td>\n",
       "      <td>2</td>\n",
       "      <td>observed</td>\n",
       "    </tr>\n",
       "    <tr>\n",
       "      <th>4</th>\n",
       "      <td>130</td>\n",
       "      <td>42000</td>\n",
       "      <td>2</td>\n",
       "      <td>observed</td>\n",
       "    </tr>\n",
       "    <tr>\n",
       "      <th>5</th>\n",
       "      <td>160</td>\n",
       "      <td>27000</td>\n",
       "      <td>2</td>\n",
       "      <td>observed</td>\n",
       "    </tr>\n",
       "    <tr>\n",
       "      <th>6</th>\n",
       "      <td>250</td>\n",
       "      <td>9000</td>\n",
       "      <td>2</td>\n",
       "      <td>observed</td>\n",
       "    </tr>\n",
       "    <tr>\n",
       "      <th>7</th>\n",
       "      <td>400</td>\n",
       "      <td>1000</td>\n",
       "      <td>2</td>\n",
       "      <td>observed</td>\n",
       "    </tr>\n",
       "    <tr>\n",
       "      <th>8</th>\n",
       "      <td>700</td>\n",
       "      <td>2000</td>\n",
       "      <td>2</td>\n",
       "      <td>observed</td>\n",
       "    </tr>\n",
       "  </tbody>\n",
       "</table>\n",
       "</div>"
      ],
      "text/plain": [
       "   depth  concentration  profile      data\n",
       "0      0         123000        1  observed\n",
       "1     50          57000        1  observed\n",
       "2     75          39000        1  observed\n",
       "3    100          28000        1  observed\n",
       "4    130          19000        1  observed\n",
       "5    160          13000        1  observed\n",
       "6    250           7000        1  observed\n",
       "7    400           4000        1  observed\n",
       "8    700           3000        1  observed\n",
       "0      0         328000        2  observed\n",
       "1     50         146000        2  observed\n",
       "2     75          98000        2  observed\n",
       "3    100          66000        2  observed\n",
       "4    130          42000        2  observed\n",
       "5    160          27000        2  observed\n",
       "6    250           9000        2  observed\n",
       "7    400           1000        2  observed\n",
       "8    700           2000        2  observed"
      ]
     },
     "metadata": {},
     "output_type": "display_data"
    }
   ],
   "source": [
    "# Depth profiles data, with depth in cm and concentration in at/g\n",
    "depths = [0, 50, 75, 100, 130, 160, 250, 400, 700]\n",
    "\n",
    "# Concentrations profile 1\n",
    "profile_1 = pd.DataFrame({\n",
    "    \"depth\": depths,\n",
    "    \"concentration\": [123000, 57000, 39000, 28000, 19000, 13000, 7000, 4000, 3000],\n",
    "    \"profile\": pd.Series(np.repeat(1, len(depths)))\n",
    "    })\n",
    "profile_1[\"data\"] = \"observed\"\n",
    "\n",
    "# Concentrations profile 2\n",
    "profile_2 = pd.DataFrame({\n",
    "    \"depth\": depths,\n",
    "    \"concentration\": [328000, 146000, 98000, 66000, 42000, 27000, 9000, 1000, 2000],\n",
    "    \"profile\": pd.Series(np.repeat(2, len(depths)))\n",
    "    })\n",
    "profile_2[\"data\"] = \"observed\"\n",
    "\n",
    "# Merge profiles into a single table\n",
    "depth_profiles = pd.concat([profile_1, profile_2], axis = 0)\n",
    "\n",
    "display(depth_profiles)\n",
    "\n",
    "# depth_profiles = pd.DataFrame(\n",
    "#     {\n",
    "#         \"depth\": [0, 50, 75, 100, 130, 160, 250, 400, 700],\n",
    "#         \"conc_p1\": [123000, 57000, 39000, 28000, 19000, 13000, 7000, 4000, 3000],\n",
    "#         \"conc_p2\": [328000, 146000, 98000, 66000, 42000, 27000, 9000, 1000, 2000],\n",
    "#         })\n"
   ]
  },
  {
   "cell_type": "markdown",
   "metadata": {},
   "source": [
    "Now, we can plot the concentrations observed in each depth profile. \n",
    "\n",
    "**QUESTIONS**\n",
    "\n",
    "1. What profile seems the oldest ? \n",
    "\n",
    "2. Is it logical with respect to the process of glacier retreat ?  "
   ]
  },
  {
   "cell_type": "code",
   "execution_count": 3,
   "metadata": {},
   "outputs": [
    {
     "data": {
      "application/vnd.plotly.v1+json": {
       "config": {
        "plotlyServerURL": "https://plot.ly"
       },
       "data": [
        {
         "hovertemplate": "Profile=1<br><sup>10</sup>Be concentration (at/g)=%{x}<br>Depth (cm)=%{y}<extra></extra>",
         "legendgroup": "1",
         "marker": {
          "color": "#636efa",
          "symbol": "circle"
         },
         "mode": "markers",
         "name": "1",
         "orientation": "v",
         "showlegend": true,
         "type": "scatter",
         "x": [
          123000,
          57000,
          39000,
          28000,
          19000,
          13000,
          7000,
          4000,
          3000
         ],
         "xaxis": "x",
         "y": [
          0,
          50,
          75,
          100,
          130,
          160,
          250,
          400,
          700
         ],
         "yaxis": "y"
        },
        {
         "hovertemplate": "Profile=2<br><sup>10</sup>Be concentration (at/g)=%{x}<br>Depth (cm)=%{y}<extra></extra>",
         "legendgroup": "2",
         "marker": {
          "color": "#EF553B",
          "symbol": "circle"
         },
         "mode": "markers",
         "name": "2",
         "orientation": "v",
         "showlegend": true,
         "type": "scatter",
         "x": [
          328000,
          146000,
          98000,
          66000,
          42000,
          27000,
          9000,
          1000,
          2000
         ],
         "xaxis": "x",
         "y": [
          0,
          50,
          75,
          100,
          130,
          160,
          250,
          400,
          700
         ],
         "yaxis": "y"
        }
       ],
       "layout": {
        "legend": {
         "title": {
          "text": "Profile"
         },
         "tracegroupgap": 0
        },
        "margin": {
         "t": 60
        },
        "template": {
         "data": {
          "bar": [
           {
            "error_x": {
             "color": "#2a3f5f"
            },
            "error_y": {
             "color": "#2a3f5f"
            },
            "marker": {
             "line": {
              "color": "#E5ECF6",
              "width": 0.5
             },
             "pattern": {
              "fillmode": "overlay",
              "size": 10,
              "solidity": 0.2
             }
            },
            "type": "bar"
           }
          ],
          "barpolar": [
           {
            "marker": {
             "line": {
              "color": "#E5ECF6",
              "width": 0.5
             },
             "pattern": {
              "fillmode": "overlay",
              "size": 10,
              "solidity": 0.2
             }
            },
            "type": "barpolar"
           }
          ],
          "carpet": [
           {
            "aaxis": {
             "endlinecolor": "#2a3f5f",
             "gridcolor": "white",
             "linecolor": "white",
             "minorgridcolor": "white",
             "startlinecolor": "#2a3f5f"
            },
            "baxis": {
             "endlinecolor": "#2a3f5f",
             "gridcolor": "white",
             "linecolor": "white",
             "minorgridcolor": "white",
             "startlinecolor": "#2a3f5f"
            },
            "type": "carpet"
           }
          ],
          "choropleth": [
           {
            "colorbar": {
             "outlinewidth": 0,
             "ticks": ""
            },
            "type": "choropleth"
           }
          ],
          "contour": [
           {
            "colorbar": {
             "outlinewidth": 0,
             "ticks": ""
            },
            "colorscale": [
             [
              0,
              "#0d0887"
             ],
             [
              0.1111111111111111,
              "#46039f"
             ],
             [
              0.2222222222222222,
              "#7201a8"
             ],
             [
              0.3333333333333333,
              "#9c179e"
             ],
             [
              0.4444444444444444,
              "#bd3786"
             ],
             [
              0.5555555555555556,
              "#d8576b"
             ],
             [
              0.6666666666666666,
              "#ed7953"
             ],
             [
              0.7777777777777778,
              "#fb9f3a"
             ],
             [
              0.8888888888888888,
              "#fdca26"
             ],
             [
              1,
              "#f0f921"
             ]
            ],
            "type": "contour"
           }
          ],
          "contourcarpet": [
           {
            "colorbar": {
             "outlinewidth": 0,
             "ticks": ""
            },
            "type": "contourcarpet"
           }
          ],
          "heatmap": [
           {
            "colorbar": {
             "outlinewidth": 0,
             "ticks": ""
            },
            "colorscale": [
             [
              0,
              "#0d0887"
             ],
             [
              0.1111111111111111,
              "#46039f"
             ],
             [
              0.2222222222222222,
              "#7201a8"
             ],
             [
              0.3333333333333333,
              "#9c179e"
             ],
             [
              0.4444444444444444,
              "#bd3786"
             ],
             [
              0.5555555555555556,
              "#d8576b"
             ],
             [
              0.6666666666666666,
              "#ed7953"
             ],
             [
              0.7777777777777778,
              "#fb9f3a"
             ],
             [
              0.8888888888888888,
              "#fdca26"
             ],
             [
              1,
              "#f0f921"
             ]
            ],
            "type": "heatmap"
           }
          ],
          "heatmapgl": [
           {
            "colorbar": {
             "outlinewidth": 0,
             "ticks": ""
            },
            "colorscale": [
             [
              0,
              "#0d0887"
             ],
             [
              0.1111111111111111,
              "#46039f"
             ],
             [
              0.2222222222222222,
              "#7201a8"
             ],
             [
              0.3333333333333333,
              "#9c179e"
             ],
             [
              0.4444444444444444,
              "#bd3786"
             ],
             [
              0.5555555555555556,
              "#d8576b"
             ],
             [
              0.6666666666666666,
              "#ed7953"
             ],
             [
              0.7777777777777778,
              "#fb9f3a"
             ],
             [
              0.8888888888888888,
              "#fdca26"
             ],
             [
              1,
              "#f0f921"
             ]
            ],
            "type": "heatmapgl"
           }
          ],
          "histogram": [
           {
            "marker": {
             "pattern": {
              "fillmode": "overlay",
              "size": 10,
              "solidity": 0.2
             }
            },
            "type": "histogram"
           }
          ],
          "histogram2d": [
           {
            "colorbar": {
             "outlinewidth": 0,
             "ticks": ""
            },
            "colorscale": [
             [
              0,
              "#0d0887"
             ],
             [
              0.1111111111111111,
              "#46039f"
             ],
             [
              0.2222222222222222,
              "#7201a8"
             ],
             [
              0.3333333333333333,
              "#9c179e"
             ],
             [
              0.4444444444444444,
              "#bd3786"
             ],
             [
              0.5555555555555556,
              "#d8576b"
             ],
             [
              0.6666666666666666,
              "#ed7953"
             ],
             [
              0.7777777777777778,
              "#fb9f3a"
             ],
             [
              0.8888888888888888,
              "#fdca26"
             ],
             [
              1,
              "#f0f921"
             ]
            ],
            "type": "histogram2d"
           }
          ],
          "histogram2dcontour": [
           {
            "colorbar": {
             "outlinewidth": 0,
             "ticks": ""
            },
            "colorscale": [
             [
              0,
              "#0d0887"
             ],
             [
              0.1111111111111111,
              "#46039f"
             ],
             [
              0.2222222222222222,
              "#7201a8"
             ],
             [
              0.3333333333333333,
              "#9c179e"
             ],
             [
              0.4444444444444444,
              "#bd3786"
             ],
             [
              0.5555555555555556,
              "#d8576b"
             ],
             [
              0.6666666666666666,
              "#ed7953"
             ],
             [
              0.7777777777777778,
              "#fb9f3a"
             ],
             [
              0.8888888888888888,
              "#fdca26"
             ],
             [
              1,
              "#f0f921"
             ]
            ],
            "type": "histogram2dcontour"
           }
          ],
          "mesh3d": [
           {
            "colorbar": {
             "outlinewidth": 0,
             "ticks": ""
            },
            "type": "mesh3d"
           }
          ],
          "parcoords": [
           {
            "line": {
             "colorbar": {
              "outlinewidth": 0,
              "ticks": ""
             }
            },
            "type": "parcoords"
           }
          ],
          "pie": [
           {
            "automargin": true,
            "type": "pie"
           }
          ],
          "scatter": [
           {
            "fillpattern": {
             "fillmode": "overlay",
             "size": 10,
             "solidity": 0.2
            },
            "type": "scatter"
           }
          ],
          "scatter3d": [
           {
            "line": {
             "colorbar": {
              "outlinewidth": 0,
              "ticks": ""
             }
            },
            "marker": {
             "colorbar": {
              "outlinewidth": 0,
              "ticks": ""
             }
            },
            "type": "scatter3d"
           }
          ],
          "scattercarpet": [
           {
            "marker": {
             "colorbar": {
              "outlinewidth": 0,
              "ticks": ""
             }
            },
            "type": "scattercarpet"
           }
          ],
          "scattergeo": [
           {
            "marker": {
             "colorbar": {
              "outlinewidth": 0,
              "ticks": ""
             }
            },
            "type": "scattergeo"
           }
          ],
          "scattergl": [
           {
            "marker": {
             "colorbar": {
              "outlinewidth": 0,
              "ticks": ""
             }
            },
            "type": "scattergl"
           }
          ],
          "scattermapbox": [
           {
            "marker": {
             "colorbar": {
              "outlinewidth": 0,
              "ticks": ""
             }
            },
            "type": "scattermapbox"
           }
          ],
          "scatterpolar": [
           {
            "marker": {
             "colorbar": {
              "outlinewidth": 0,
              "ticks": ""
             }
            },
            "type": "scatterpolar"
           }
          ],
          "scatterpolargl": [
           {
            "marker": {
             "colorbar": {
              "outlinewidth": 0,
              "ticks": ""
             }
            },
            "type": "scatterpolargl"
           }
          ],
          "scatterternary": [
           {
            "marker": {
             "colorbar": {
              "outlinewidth": 0,
              "ticks": ""
             }
            },
            "type": "scatterternary"
           }
          ],
          "surface": [
           {
            "colorbar": {
             "outlinewidth": 0,
             "ticks": ""
            },
            "colorscale": [
             [
              0,
              "#0d0887"
             ],
             [
              0.1111111111111111,
              "#46039f"
             ],
             [
              0.2222222222222222,
              "#7201a8"
             ],
             [
              0.3333333333333333,
              "#9c179e"
             ],
             [
              0.4444444444444444,
              "#bd3786"
             ],
             [
              0.5555555555555556,
              "#d8576b"
             ],
             [
              0.6666666666666666,
              "#ed7953"
             ],
             [
              0.7777777777777778,
              "#fb9f3a"
             ],
             [
              0.8888888888888888,
              "#fdca26"
             ],
             [
              1,
              "#f0f921"
             ]
            ],
            "type": "surface"
           }
          ],
          "table": [
           {
            "cells": {
             "fill": {
              "color": "#EBF0F8"
             },
             "line": {
              "color": "white"
             }
            },
            "header": {
             "fill": {
              "color": "#C8D4E3"
             },
             "line": {
              "color": "white"
             }
            },
            "type": "table"
           }
          ]
         },
         "layout": {
          "annotationdefaults": {
           "arrowcolor": "#2a3f5f",
           "arrowhead": 0,
           "arrowwidth": 1
          },
          "autotypenumbers": "strict",
          "coloraxis": {
           "colorbar": {
            "outlinewidth": 0,
            "ticks": ""
           }
          },
          "colorscale": {
           "diverging": [
            [
             0,
             "#8e0152"
            ],
            [
             0.1,
             "#c51b7d"
            ],
            [
             0.2,
             "#de77ae"
            ],
            [
             0.3,
             "#f1b6da"
            ],
            [
             0.4,
             "#fde0ef"
            ],
            [
             0.5,
             "#f7f7f7"
            ],
            [
             0.6,
             "#e6f5d0"
            ],
            [
             0.7,
             "#b8e186"
            ],
            [
             0.8,
             "#7fbc41"
            ],
            [
             0.9,
             "#4d9221"
            ],
            [
             1,
             "#276419"
            ]
           ],
           "sequential": [
            [
             0,
             "#0d0887"
            ],
            [
             0.1111111111111111,
             "#46039f"
            ],
            [
             0.2222222222222222,
             "#7201a8"
            ],
            [
             0.3333333333333333,
             "#9c179e"
            ],
            [
             0.4444444444444444,
             "#bd3786"
            ],
            [
             0.5555555555555556,
             "#d8576b"
            ],
            [
             0.6666666666666666,
             "#ed7953"
            ],
            [
             0.7777777777777778,
             "#fb9f3a"
            ],
            [
             0.8888888888888888,
             "#fdca26"
            ],
            [
             1,
             "#f0f921"
            ]
           ],
           "sequentialminus": [
            [
             0,
             "#0d0887"
            ],
            [
             0.1111111111111111,
             "#46039f"
            ],
            [
             0.2222222222222222,
             "#7201a8"
            ],
            [
             0.3333333333333333,
             "#9c179e"
            ],
            [
             0.4444444444444444,
             "#bd3786"
            ],
            [
             0.5555555555555556,
             "#d8576b"
            ],
            [
             0.6666666666666666,
             "#ed7953"
            ],
            [
             0.7777777777777778,
             "#fb9f3a"
            ],
            [
             0.8888888888888888,
             "#fdca26"
            ],
            [
             1,
             "#f0f921"
            ]
           ]
          },
          "colorway": [
           "#636efa",
           "#EF553B",
           "#00cc96",
           "#ab63fa",
           "#FFA15A",
           "#19d3f3",
           "#FF6692",
           "#B6E880",
           "#FF97FF",
           "#FECB52"
          ],
          "font": {
           "color": "#2a3f5f"
          },
          "geo": {
           "bgcolor": "white",
           "lakecolor": "white",
           "landcolor": "#E5ECF6",
           "showlakes": true,
           "showland": true,
           "subunitcolor": "white"
          },
          "hoverlabel": {
           "align": "left"
          },
          "hovermode": "closest",
          "mapbox": {
           "style": "light"
          },
          "paper_bgcolor": "white",
          "plot_bgcolor": "#E5ECF6",
          "polar": {
           "angularaxis": {
            "gridcolor": "white",
            "linecolor": "white",
            "ticks": ""
           },
           "bgcolor": "#E5ECF6",
           "radialaxis": {
            "gridcolor": "white",
            "linecolor": "white",
            "ticks": ""
           }
          },
          "scene": {
           "xaxis": {
            "backgroundcolor": "#E5ECF6",
            "gridcolor": "white",
            "gridwidth": 2,
            "linecolor": "white",
            "showbackground": true,
            "ticks": "",
            "zerolinecolor": "white"
           },
           "yaxis": {
            "backgroundcolor": "#E5ECF6",
            "gridcolor": "white",
            "gridwidth": 2,
            "linecolor": "white",
            "showbackground": true,
            "ticks": "",
            "zerolinecolor": "white"
           },
           "zaxis": {
            "backgroundcolor": "#E5ECF6",
            "gridcolor": "white",
            "gridwidth": 2,
            "linecolor": "white",
            "showbackground": true,
            "ticks": "",
            "zerolinecolor": "white"
           }
          },
          "shapedefaults": {
           "line": {
            "color": "#2a3f5f"
           }
          },
          "ternary": {
           "aaxis": {
            "gridcolor": "white",
            "linecolor": "white",
            "ticks": ""
           },
           "baxis": {
            "gridcolor": "white",
            "linecolor": "white",
            "ticks": ""
           },
           "bgcolor": "#E5ECF6",
           "caxis": {
            "gridcolor": "white",
            "linecolor": "white",
            "ticks": ""
           }
          },
          "title": {
           "x": 0.05
          },
          "xaxis": {
           "automargin": true,
           "gridcolor": "white",
           "linecolor": "white",
           "ticks": "",
           "title": {
            "standoff": 15
           },
           "zerolinecolor": "white",
           "zerolinewidth": 2
          },
          "yaxis": {
           "automargin": true,
           "gridcolor": "white",
           "linecolor": "white",
           "ticks": "",
           "title": {
            "standoff": 15
           },
           "zerolinecolor": "white",
           "zerolinewidth": 2
          }
         }
        },
        "xaxis": {
         "anchor": "y",
         "domain": [
          0,
          1
         ],
         "side": "top",
         "title": {
          "text": "<sup>10</sup>Be concentration (at/g)"
         }
        },
        "yaxis": {
         "anchor": "x",
         "autorange": "reversed",
         "domain": [
          0,
          1
         ],
         "title": {
          "text": "Depth (cm)"
         }
        }
       }
      }
     },
     "metadata": {},
     "output_type": "display_data"
    }
   ],
   "source": [
    "depth_profiles[\"profile_string\"] = depth_profiles[\"profile\"].astype(str)\n",
    "\n",
    "# Plot depth profiles\n",
    "plot = px.scatter(depth_profiles, x = \"concentration\", y = \"depth\", color = \"profile_string\", labels = dict(concentration = \"<sup>10</sup>Be concentration (at/g)\", depth = \"Depth (cm)\", profile_string = \"Profile\"))\n",
    "plot.update_yaxes(autorange = \"reversed\")\n",
    "plot.update_layout(xaxis = {'side': 'top'})\n",
    "plot.show()"
   ]
  },
  {
   "cell_type": "markdown",
   "metadata": {},
   "source": [
    "The aim is now to find the pair of values for erosion value and exposure age that best fit the two depth profiles, using the Nash-Suthcliffe optimization. To achieve this goal, we will model the depth profile for different combinations of erosion and exposure age values, as defined below: "
   ]
  },
  {
   "cell_type": "code",
   "execution_count": 4,
   "metadata": {},
   "outputs": [
    {
     "name": "stdout",
     "output_type": "stream",
     "text": [
      "Erosion (cm): \n"
     ]
    },
    {
     "data": {
      "text/plain": [
       "[0, 100, 200, 500, 1000, 2000]"
      ]
     },
     "metadata": {},
     "output_type": "display_data"
    },
    {
     "name": "stdout",
     "output_type": "stream",
     "text": [
      "Exposure ages (a): \n"
     ]
    },
    {
     "data": {
      "text/plain": [
       "[20000, 40000, 60000, 80000, 100000, 120000, 140000]"
      ]
     },
     "metadata": {},
     "output_type": "display_data"
    },
    {
     "name": "stdout",
     "output_type": "stream",
     "text": [
      "Parameters for CRN modelling: \n"
     ]
    },
    {
     "data": {
      "text/plain": [
       "{'atn': 160,\n",
       " 'prod_rate': 4.25,\n",
       " 'rho': 2.7,\n",
       " 'half_life_Be10': 1387000.0,\n",
       " 'L': 4.997456240519106e-07}"
      ]
     },
     "metadata": {},
     "output_type": "display_data"
    }
   ],
   "source": [
    "# Erosion values (cm)\n",
    "erosion_values = [0, 100, 200, 500, 1000, 2000]\n",
    "print(\"Erosion (cm): \")\n",
    "display(erosion_values)\n",
    "\n",
    "# Exposure age values (a)\n",
    "exposure_ages = [20000, 40000, 60000, 80000, 100000, 120000, 140000]\n",
    "print(\"Exposure ages (a): \")\n",
    "display(exposure_ages)\n",
    "\n",
    "# Parameters of CRN modelling\n",
    "parameters = get_parameters_values()\n",
    "print(\"Parameters for CRN modelling: \")\n",
    "display(parameters)"
   ]
  },
  {
   "cell_type": "markdown",
   "metadata": {},
   "source": [
    "Let's loop within the defined values to run the depth profile modelling, and collect modelled concentrations along with Nash-Sutcliffe values. The optimization is achieved for the two profiles independently.\n",
    "\n",
    "### Profile 1\n",
    "\n",
    "Below, we optimize the profile 1."
   ]
  },
  {
   "cell_type": "code",
   "execution_count": 5,
   "metadata": {},
   "outputs": [
    {
     "data": {
      "text/html": [
       "<div>\n",
       "<style scoped>\n",
       "    .dataframe tbody tr th:only-of-type {\n",
       "        vertical-align: middle;\n",
       "    }\n",
       "\n",
       "    .dataframe tbody tr th {\n",
       "        vertical-align: top;\n",
       "    }\n",
       "\n",
       "    .dataframe thead th {\n",
       "        text-align: right;\n",
       "    }\n",
       "</style>\n",
       "<table border=\"1\" class=\"dataframe\">\n",
       "  <thead>\n",
       "    <tr style=\"text-align: right;\">\n",
       "      <th></th>\n",
       "      <th>erosion</th>\n",
       "      <th>exposure_age</th>\n",
       "      <th>nash_index</th>\n",
       "    </tr>\n",
       "  </thead>\n",
       "  <tbody>\n",
       "    <tr>\n",
       "      <th>0</th>\n",
       "      <td>0</td>\n",
       "      <td>20000</td>\n",
       "      <td>-0.285333</td>\n",
       "    </tr>\n",
       "    <tr>\n",
       "      <th>0</th>\n",
       "      <td>0</td>\n",
       "      <td>40000</td>\n",
       "      <td>0.146861</td>\n",
       "    </tr>\n",
       "    <tr>\n",
       "      <th>0</th>\n",
       "      <td>0</td>\n",
       "      <td>60000</td>\n",
       "      <td>0.487352</td>\n",
       "    </tr>\n",
       "    <tr>\n",
       "      <th>0</th>\n",
       "      <td>0</td>\n",
       "      <td>80000</td>\n",
       "      <td>0.738781</td>\n",
       "    </tr>\n",
       "    <tr>\n",
       "      <th>0</th>\n",
       "      <td>0</td>\n",
       "      <td>100000</td>\n",
       "      <td>0.903730</td>\n",
       "    </tr>\n",
       "    <tr>\n",
       "      <th>0</th>\n",
       "      <td>0</td>\n",
       "      <td>120000</td>\n",
       "      <td>0.984721</td>\n",
       "    </tr>\n",
       "    <tr>\n",
       "      <th>0</th>\n",
       "      <td>0</td>\n",
       "      <td>140000</td>\n",
       "      <td>0.984219</td>\n",
       "    </tr>\n",
       "    <tr>\n",
       "      <th>0</th>\n",
       "      <td>100</td>\n",
       "      <td>20000</td>\n",
       "      <td>-0.538584</td>\n",
       "    </tr>\n",
       "    <tr>\n",
       "      <th>0</th>\n",
       "      <td>100</td>\n",
       "      <td>40000</td>\n",
       "      <td>-0.289374</td>\n",
       "    </tr>\n",
       "    <tr>\n",
       "      <th>0</th>\n",
       "      <td>100</td>\n",
       "      <td>60000</td>\n",
       "      <td>-0.063798</td>\n",
       "    </tr>\n",
       "    <tr>\n",
       "      <th>0</th>\n",
       "      <td>100</td>\n",
       "      <td>80000</td>\n",
       "      <td>0.138642</td>\n",
       "    </tr>\n",
       "    <tr>\n",
       "      <th>0</th>\n",
       "      <td>100</td>\n",
       "      <td>100000</td>\n",
       "      <td>0.318436</td>\n",
       "    </tr>\n",
       "    <tr>\n",
       "      <th>0</th>\n",
       "      <td>100</td>\n",
       "      <td>120000</td>\n",
       "      <td>0.476063</td>\n",
       "    </tr>\n",
       "    <tr>\n",
       "      <th>0</th>\n",
       "      <td>100</td>\n",
       "      <td>140000</td>\n",
       "      <td>0.611995</td>\n",
       "    </tr>\n",
       "    <tr>\n",
       "      <th>0</th>\n",
       "      <td>200</td>\n",
       "      <td>20000</td>\n",
       "      <td>-0.641743</td>\n",
       "    </tr>\n",
       "    <tr>\n",
       "      <th>0</th>\n",
       "      <td>200</td>\n",
       "      <td>40000</td>\n",
       "      <td>-0.480823</td>\n",
       "    </tr>\n",
       "    <tr>\n",
       "      <th>0</th>\n",
       "      <td>200</td>\n",
       "      <td>60000</td>\n",
       "      <td>-0.329027</td>\n",
       "    </tr>\n",
       "    <tr>\n",
       "      <th>0</th>\n",
       "      <td>200</td>\n",
       "      <td>80000</td>\n",
       "      <td>-0.186214</td>\n",
       "    </tr>\n",
       "    <tr>\n",
       "      <th>0</th>\n",
       "      <td>200</td>\n",
       "      <td>100000</td>\n",
       "      <td>-0.052240</td>\n",
       "    </tr>\n",
       "    <tr>\n",
       "      <th>0</th>\n",
       "      <td>200</td>\n",
       "      <td>120000</td>\n",
       "      <td>0.073032</td>\n",
       "    </tr>\n",
       "    <tr>\n",
       "      <th>0</th>\n",
       "      <td>200</td>\n",
       "      <td>140000</td>\n",
       "      <td>0.189740</td>\n",
       "    </tr>\n",
       "    <tr>\n",
       "      <th>0</th>\n",
       "      <td>500</td>\n",
       "      <td>20000</td>\n",
       "      <td>-0.734172</td>\n",
       "    </tr>\n",
       "    <tr>\n",
       "      <th>0</th>\n",
       "      <td>500</td>\n",
       "      <td>40000</td>\n",
       "      <td>-0.658378</td>\n",
       "    </tr>\n",
       "    <tr>\n",
       "      <th>0</th>\n",
       "      <td>500</td>\n",
       "      <td>60000</td>\n",
       "      <td>-0.584532</td>\n",
       "    </tr>\n",
       "    <tr>\n",
       "      <th>0</th>\n",
       "      <td>500</td>\n",
       "      <td>80000</td>\n",
       "      <td>-0.512617</td>\n",
       "    </tr>\n",
       "    <tr>\n",
       "      <th>0</th>\n",
       "      <td>500</td>\n",
       "      <td>100000</td>\n",
       "      <td>-0.442612</td>\n",
       "    </tr>\n",
       "    <tr>\n",
       "      <th>0</th>\n",
       "      <td>500</td>\n",
       "      <td>120000</td>\n",
       "      <td>-0.374501</td>\n",
       "    </tr>\n",
       "    <tr>\n",
       "      <th>0</th>\n",
       "      <td>500</td>\n",
       "      <td>140000</td>\n",
       "      <td>-0.308263</td>\n",
       "    </tr>\n",
       "    <tr>\n",
       "      <th>0</th>\n",
       "      <td>1000</td>\n",
       "      <td>20000</td>\n",
       "      <td>-0.769607</td>\n",
       "    </tr>\n",
       "    <tr>\n",
       "      <th>0</th>\n",
       "      <td>1000</td>\n",
       "      <td>40000</td>\n",
       "      <td>-0.727898</td>\n",
       "    </tr>\n",
       "    <tr>\n",
       "      <th>0</th>\n",
       "      <td>1000</td>\n",
       "      <td>60000</td>\n",
       "      <td>-0.686804</td>\n",
       "    </tr>\n",
       "    <tr>\n",
       "      <th>0</th>\n",
       "      <td>1000</td>\n",
       "      <td>80000</td>\n",
       "      <td>-0.646318</td>\n",
       "    </tr>\n",
       "    <tr>\n",
       "      <th>0</th>\n",
       "      <td>1000</td>\n",
       "      <td>100000</td>\n",
       "      <td>-0.606436</td>\n",
       "    </tr>\n",
       "    <tr>\n",
       "      <th>0</th>\n",
       "      <td>1000</td>\n",
       "      <td>120000</td>\n",
       "      <td>-0.567154</td>\n",
       "    </tr>\n",
       "    <tr>\n",
       "      <th>0</th>\n",
       "      <td>1000</td>\n",
       "      <td>140000</td>\n",
       "      <td>-0.528466</td>\n",
       "    </tr>\n",
       "    <tr>\n",
       "      <th>0</th>\n",
       "      <td>2000</td>\n",
       "      <td>20000</td>\n",
       "      <td>-0.789268</td>\n",
       "    </tr>\n",
       "    <tr>\n",
       "      <th>0</th>\n",
       "      <td>2000</td>\n",
       "      <td>40000</td>\n",
       "      <td>-0.766797</td>\n",
       "    </tr>\n",
       "    <tr>\n",
       "      <th>0</th>\n",
       "      <td>2000</td>\n",
       "      <td>60000</td>\n",
       "      <td>-0.744520</td>\n",
       "    </tr>\n",
       "    <tr>\n",
       "      <th>0</th>\n",
       "      <td>2000</td>\n",
       "      <td>80000</td>\n",
       "      <td>-0.722436</td>\n",
       "    </tr>\n",
       "    <tr>\n",
       "      <th>0</th>\n",
       "      <td>2000</td>\n",
       "      <td>100000</td>\n",
       "      <td>-0.700542</td>\n",
       "    </tr>\n",
       "    <tr>\n",
       "      <th>0</th>\n",
       "      <td>2000</td>\n",
       "      <td>120000</td>\n",
       "      <td>-0.678838</td>\n",
       "    </tr>\n",
       "    <tr>\n",
       "      <th>0</th>\n",
       "      <td>2000</td>\n",
       "      <td>140000</td>\n",
       "      <td>-0.657322</td>\n",
       "    </tr>\n",
       "  </tbody>\n",
       "</table>\n",
       "</div>"
      ],
      "text/plain": [
       "   erosion  exposure_age  nash_index\n",
       "0        0         20000   -0.285333\n",
       "0        0         40000    0.146861\n",
       "0        0         60000    0.487352\n",
       "0        0         80000    0.738781\n",
       "0        0        100000    0.903730\n",
       "0        0        120000    0.984721\n",
       "0        0        140000    0.984219\n",
       "0      100         20000   -0.538584\n",
       "0      100         40000   -0.289374\n",
       "0      100         60000   -0.063798\n",
       "0      100         80000    0.138642\n",
       "0      100        100000    0.318436\n",
       "0      100        120000    0.476063\n",
       "0      100        140000    0.611995\n",
       "0      200         20000   -0.641743\n",
       "0      200         40000   -0.480823\n",
       "0      200         60000   -0.329027\n",
       "0      200         80000   -0.186214\n",
       "0      200        100000   -0.052240\n",
       "0      200        120000    0.073032\n",
       "0      200        140000    0.189740\n",
       "0      500         20000   -0.734172\n",
       "0      500         40000   -0.658378\n",
       "0      500         60000   -0.584532\n",
       "0      500         80000   -0.512617\n",
       "0      500        100000   -0.442612\n",
       "0      500        120000   -0.374501\n",
       "0      500        140000   -0.308263\n",
       "0     1000         20000   -0.769607\n",
       "0     1000         40000   -0.727898\n",
       "0     1000         60000   -0.686804\n",
       "0     1000         80000   -0.646318\n",
       "0     1000        100000   -0.606436\n",
       "0     1000        120000   -0.567154\n",
       "0     1000        140000   -0.528466\n",
       "0     2000         20000   -0.789268\n",
       "0     2000         40000   -0.766797\n",
       "0     2000         60000   -0.744520\n",
       "0     2000         80000   -0.722436\n",
       "0     2000        100000   -0.700542\n",
       "0     2000        120000   -0.678838\n",
       "0     2000        140000   -0.657322"
      ]
     },
     "metadata": {},
     "output_type": "display_data"
    }
   ],
   "source": [
    "# CRN concentrations for profile 1\n",
    "concentrations_profile_1 = depth_profiles.loc[depth_profiles[\"profile\"] == 1][\"concentration\"].to_numpy()\n",
    "\n",
    "# Container for optimization results\n",
    "fit_profile_1 = pd.DataFrame()\n",
    "\n",
    "# Loop within erosion values \n",
    "for i in range(len(erosion_values)):\n",
    "\n",
    "    # Loop within exposure ages\n",
    "    for j in range(len(exposure_ages)):\n",
    "\n",
    "        # Run optimization for current set of values\n",
    "        crn_fit = be_accumulator(concentrations_profile_1, depths, exposure_ages[j], erosion_values[i], 0, parameters)\n",
    "        # Collect result into temporary dataframe\n",
    "        current_fit = pd.DataFrame({\"erosion\": erosion_values[i], \"exposure_age\": exposure_ages[j], \"nash_index\": [crn_fit[\"nash_index\"]]})\n",
    "        # Collect current result in to main container\n",
    "        fit_profile_1 = pd.concat([fit_profile_1, current_fit], axis = 0)\n",
    "\n",
    "display(fit_profile_1)"
   ]
  },
  {
   "cell_type": "markdown",
   "metadata": {},
   "source": [
    "Select the pair of values that provides a Nash-Sutcliffe value closest to 1, i.e. the largest value, that will correspond to our best scenario, optimizing the exposure age and the erosion of the observed depth profile."
   ]
  },
  {
   "cell_type": "code",
   "execution_count": 6,
   "metadata": {},
   "outputs": [
    {
     "data": {
      "text/html": [
       "<div>\n",
       "<style scoped>\n",
       "    .dataframe tbody tr th:only-of-type {\n",
       "        vertical-align: middle;\n",
       "    }\n",
       "\n",
       "    .dataframe tbody tr th {\n",
       "        vertical-align: top;\n",
       "    }\n",
       "\n",
       "    .dataframe thead th {\n",
       "        text-align: right;\n",
       "    }\n",
       "</style>\n",
       "<table border=\"1\" class=\"dataframe\">\n",
       "  <thead>\n",
       "    <tr style=\"text-align: right;\">\n",
       "      <th></th>\n",
       "      <th>erosion</th>\n",
       "      <th>exposure_age</th>\n",
       "      <th>nash_index</th>\n",
       "    </tr>\n",
       "  </thead>\n",
       "  <tbody>\n",
       "    <tr>\n",
       "      <th>0</th>\n",
       "      <td>0</td>\n",
       "      <td>120000</td>\n",
       "      <td>0.984721</td>\n",
       "    </tr>\n",
       "  </tbody>\n",
       "</table>\n",
       "</div>"
      ],
      "text/plain": [
       "   erosion  exposure_age  nash_index\n",
       "0        0        120000    0.984721"
      ]
     },
     "execution_count": 6,
     "metadata": {},
     "output_type": "execute_result"
    }
   ],
   "source": [
    "# Get row for which nash_index has the maximum value in the column. \n",
    "fit_profile_1[fit_profile_1.nash_index == fit_profile_1.nash_index.max()]"
   ]
  },
  {
   "cell_type": "markdown",
   "metadata": {},
   "source": [
    "Let's now select the best scenario and get the modelled <sup>10</sup>Be concentrations at each depth."
   ]
  },
  {
   "cell_type": "code",
   "execution_count": null,
   "metadata": {},
   "outputs": [],
   "source": [
    "# Erosion of selected scenario\n",
    "erosion = \n",
    "# Exposure age of selected scenario\n",
    "exposure_age = \n",
    "\n",
    "# Run the scenario with the selected values\n",
    "crn_fit_1 = be_accumulator(concentrations_profile_1, depths, exposure_age, erosion, 0, parameters)\n",
    "\n",
    "# Get the fitted CRN values and add them to profile table\n",
    "display(pd.concat([profile_1, pd.Series(crn_fit_1[\"crn_fitted\"], name = \"crn_fitted\", dtype = \"Float64\")], axis = 1))"
   ]
  },
  {
   "cell_type": "markdown",
   "metadata": {},
   "source": [
    "And we can plot the modelled CRN values along with the observed ones."
   ]
  },
  {
   "cell_type": "code",
   "execution_count": null,
   "metadata": {},
   "outputs": [],
   "source": [
    "# Re-arrange the data to provide a table suitable for a proper plot\n",
    "profile_1_fit = pd.DataFrame({\"depth\": depths, \"concentration\": pd.Series(crn_fit_1[\"crn_fitted\"], name = \"crn_fitted\", dtype = \"Float64\"), \"profile\": pd.Series(np.repeat(1, len(depths)))})\n",
    "profile_1_fit[\"data\"] = \"fitted\"\n",
    "# Append data to observed values\n",
    "profile_1_plot = pd.concat([profile_1, profile_1_fit], axis = 0)\n",
    "\n",
    "# Plot depth profile\n",
    "plot = px.scatter(profile_1_plot, x = \"concentration\", y = \"depth\", color = \"data\", labels = dict(concentration = \"<sup>10</sup>Be concentration (at/g)\", depth = \"Depth (cm)\", data = \"Data\"), width = 800, height = 600)\n",
    "plot.update_yaxes(autorange = \"reversed\")\n",
    "plot.update_layout(xaxis = {'side': 'top'}, title = \"Profile 1\")\n",
    "plot.show()"
   ]
  },
  {
   "cell_type": "markdown",
   "metadata": {},
   "source": [
    "## Profile 2\n",
    "\n",
    "Now, we will apply the same workflow for the second profile. "
   ]
  },
  {
   "cell_type": "code",
   "execution_count": null,
   "metadata": {},
   "outputs": [],
   "source": [
    "# CRN concentrations for profile 2\n",
    "concentrations_profile_2 = depth_profiles.loc[depth_profiles[\"profile\"] == 2][\"concentration\"].to_numpy()\n",
    "\n",
    "# Container for optimization results\n",
    "fit_profile_2 = pd.DataFrame()\n",
    "\n",
    "# Loop within erosion \n",
    "for i in range(len(erosion_values)):\n",
    "\n",
    "    # Loop within exposure ages\n",
    "    for j in range(len(exposure_ages)):\n",
    "\n",
    "        # Run optimization for current set of values\n",
    "        crn_fit = be_accumulator(concentrations_profile_2, depths, exposure_ages[j], erosion_values[i], 0, parameters)\n",
    "        # Collect result into temporary dataframe\n",
    "        current_fit = pd.DataFrame({\"erosion\": erosion_values[i], \"exposure_age\": exposure_ages[j], \"nash_index\": [crn_fit[\"nash_index\"]]})\n",
    "        # Collect current result in to main container\n",
    "        fit_profile_2 = pd.concat([fit_profile_2, current_fit], axis = 0)\n",
    "\n",
    "display(fit_profile_2)"
   ]
  },
  {
   "cell_type": "markdown",
   "metadata": {},
   "source": [
    "Select the pair of values that provides a Nash-Sutcliffe value closest to 1, i.e. the largest value, that will correspond to our best scenario, optimizing the observed depth profile."
   ]
  },
  {
   "cell_type": "code",
   "execution_count": null,
   "metadata": {},
   "outputs": [],
   "source": [
    "# Get row for which nash_index has the maximum value in the column. \n",
    "fit_profile_2[fit_profile_2.nash_index == fit_profile_2.nash_index.max()]"
   ]
  },
  {
   "cell_type": "markdown",
   "metadata": {},
   "source": [
    "Let's now select the best scenario and get the modelled <sup>10</sup>Be concentrations at each depth."
   ]
  },
  {
   "cell_type": "code",
   "execution_count": null,
   "metadata": {},
   "outputs": [],
   "source": [
    "# Erosion of selected scenario\n",
    "erosion = \n",
    "# Exposure age of selected scenario\n",
    "exposure_age = \n",
    "\n",
    "# Run the scenario with the selected values\n",
    "crn_fit_2 = be_accumulator(concentrations_profile_2, depths, exposure_age, erosion, 0, parameters)\n",
    "\n",
    "# Get the fitted CRN values and add them to profile table\n",
    "display(pd.concat([profile_2, pd.Series(crn_fit_2[\"crn_fitted\"], name = \"crn_fitted\", dtype = \"Float64\")], axis = 1))"
   ]
  },
  {
   "cell_type": "markdown",
   "metadata": {},
   "source": [
    "And we can plot the modelled CRN values along with the observed ones."
   ]
  },
  {
   "cell_type": "code",
   "execution_count": null,
   "metadata": {},
   "outputs": [],
   "source": [
    "# Re-arrange the data to provide a table suitable for a proper plot\n",
    "profile_2_fit = pd.DataFrame({\"depth\": depths, \"concentration\": pd.Series(crn_fit_2[\"crn_fitted\"], name = \"crn_fitted\", dtype = \"Float64\"), \"profile\": pd.Series(np.repeat(2, len(depths)))})\n",
    "profile_2_fit[\"data\"] = \"fitted\"\n",
    "# Append data to observed values\n",
    "profile_2_plot = pd.concat([profile_2, profile_2_fit], axis = 0)\n",
    "\n",
    "# Plot depth profile\n",
    "plot = px.scatter(profile_2_plot, x = \"concentration\", y = \"depth\", color = \"data\", labels = dict(concentration = \"<sup>10</sup>Be concentration (at/g)\", depth = \"Depth (cm)\", data = \"Data\"), width = 800, height = 600)\n",
    "plot.update_yaxes(autorange = \"reversed\")\n",
    "plot.update_layout(xaxis = {'side': 'top'}, title = \"Profile 2\")\n",
    "plot.show()"
   ]
  },
  {
   "cell_type": "markdown",
   "metadata": {},
   "source": [
    "## Interpretation \n",
    "\n",
    "Based on the Nash-Sutcliffe optimization criterion (best value is a maximization and should approach as close as possible to 1), how would you describe the main steps of the landscape history?"
   ]
  }
 ],
 "metadata": {
  "kernelspec": {
   "display_name": "Python 3.9.7 ('base')",
   "language": "python",
   "name": "python3"
  },
  "language_info": {
   "codemirror_mode": {
    "name": "ipython",
    "version": 3
   },
   "file_extension": ".py",
   "mimetype": "text/x-python",
   "name": "python",
   "nbconvert_exporter": "python",
   "pygments_lexer": "ipython3",
   "version": "3.9.7"
  },
  "orig_nbformat": 4,
  "vscode": {
   "interpreter": {
    "hash": "293b0e4ba064906a8557b4eaa242189f34a3eaea729f1289734fdcf46cd0b2b8"
   }
  }
 },
 "nbformat": 4,
 "nbformat_minor": 2
}
