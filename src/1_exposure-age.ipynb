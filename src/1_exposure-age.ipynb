{
 "cells": [
  {
   "cell_type": "markdown",
   "metadata": {},
   "source": [
    "# Exposure age calculation\n",
    "\n",
    "## Context\n",
    "\n",
    "A <sup>10</sup>Be concentration of 100 x 10<sup>3</sup> at/g characterizes a shallow bedrock sample, if we consider granite, density = 2.7). The production rate at sea level high latitude (SLHL) is 1 at/g/yr. <sup>10</sup>Be half live is 1.37 x 10<sup>6</sup> yr. \n",
    "\n",
    "The bedrock is characterized with:\n",
    "\n",
    "## Question 1\n",
    "\n",
    "Calculate the exposure age for an erosion rate of 1, 2, 5, 10, and 50 m/Myr. How is the exposure age evolving in function of the erosion rate ? Why ?"
   ]
  },
  {
   "cell_type": "code",
   "execution_count": null,
   "metadata": {},
   "outputs": [],
   "source": [
    "# Import packages\n",
    "import matplotlib.pyplot as plt\n",
    "import numpy as np\n",
    "import pandas as pd\n",
    "from IPython.display import display\n",
    "import plotly.express as px\n",
    "import os, sys, platform\n",
    "\n",
    "# Define root directory according to current environment\n",
    "if platform.node() != \"se22.156\":\n",
    "    !git clone https://github.com/franz825/cosmo-training\n",
    "    dir_root = \"/content/cosmo-training\"\n",
    "\n",
    "else:\n",
    "    # Path to root directory (repository)\n",
    "    dir_root = os.path.dirname(sys.path[0])\n",
    "\n",
    "# Import custom functions for CRN computation\n",
    "sys.path.append(dir_root)\n",
    "from src.functions.surface_concentration import surface_concentration\n"
   ]
  },
  {
   "cell_type": "markdown",
   "metadata": {},
   "source": [
    "Define variables"
   ]
  },
  {
   "cell_type": "code",
   "execution_count": null,
   "metadata": {},
   "outputs": [],
   "source": [
    "# Constant erosion rate of the surface (cm/yr)\n",
    "erosion_rates = [0.000001, 0.0001, 0.001, 0.03]\n",
    "\n",
    "# Vector containing the exposure ages (yr) to process\n",
    "ages = [1000, 10000, 20000, 30000, 50000, 100000, 200000, 300000, 400000, 500000, 1000000]    "
   ]
  },
  {
   "cell_type": "markdown",
   "metadata": {},
   "source": []
  },
  {
   "cell_type": "code",
   "execution_count": null,
   "metadata": {},
   "outputs": [],
   "source": [
    "# Containers for 10Be concentrations results\n",
    "crn_table = pd.DataFrame({\"exposure_age\": ages})\n",
    "crn_plot = pd.DataFrame()\n",
    "\n",
    "# Loop within erosion rate values\n",
    "for i in range(len(erosion_rates)):\n",
    "\n",
    "    # Get current erosion rate\n",
    "    erosion_rate = erosion_rates[i]\n",
    "\n",
    "    # Array to contain CRN concentration for each \n",
    "    crn_concentrations = np.zeros(len(ages))\n",
    "\n",
    "    # Loop within exposure age values\n",
    "    for i in range(len(ages)): \n",
    "        \n",
    "        # Get current exposure age\n",
    "        exposure_age = ages[i]\n",
    "\n",
    "        # Compute 10Be concentration at the surface \n",
    "        Be_concentration = conc_surf(erosion_rate, exposure_age)\n",
    "\n",
    "        # Divide 10Be concentration by 1000 (and store in array\n",
    "        crn_concentrations[i] = Be_concentration\n",
    "\n",
    "    # Convert array of concentrations in a named serie\n",
    "    crn_concentrations = pd.Series(crn_concentrations, name = \"crn_conc_erate_\" + str(erosion_rate), dtype = 'Float64')\n",
    "    # Include array of concentrations in a complete dataframe\n",
    "    crn_df = pd.DataFrame({\"exposure_age\": ages, \"crn_concentration\": crn_concentrations, \"erosion_rate\": pd.Series(np.repeat(erosion_rate, len(ages)))})\n",
    "\n",
    "    # Collect concentrations formatted for plots\n",
    "    crn_plot = pd.concat([crn_plot, crn_df], axis = 0)\n",
    "    # Collect concentrations into pandas dataframe for csv export\n",
    "    crn_table = pd.concat([crn_table, crn_concentrations], axis = 1)"
   ]
  },
  {
   "cell_type": "markdown",
   "metadata": {},
   "source": [
    "Graph"
   ]
  },
  {
   "cell_type": "code",
   "execution_count": null,
   "metadata": {},
   "outputs": [],
   "source": [
    "# Write results to csv file\n",
    "crn_table.to_csv(\"exposure_ages.csv\")\n",
    "\n",
    "# Print the table containing 10Be concentration for each exposure age\n",
    "display(crn_table)"
   ]
  },
  {
   "cell_type": "code",
   "execution_count": null,
   "metadata": {},
   "outputs": [],
   "source": [
    "# Coerce erosion rate as string and convert at/g to 10^3 at/g\n",
    "crn_plot[\"erosion_rate\"] = crn_plot[\"erosion_rate\"] * 10000\n",
    "crn_plot[\"erosion_rate\"] = crn_plot[\"erosion_rate\"].astype(str)\n",
    "crn_plot[\"crn_concentration\"] = crn_plot[\"crn_concentration\"] / 1000\n",
    "\n",
    "# Plot 10Be concentrations for various erosion rates \n",
    "plot = px.scatter(crn_plot, x = \"exposure_age\", y = \"crn_concentration\", color = \"erosion_rate\", labels = dict(exposure_age = \"Exposure age (a)\", \n",
    "crn_concentration = \"Concentration (10<sup>3</sup> at/g)\", erosion_rate = \"Erosion rate (m /Ma)\"), log_x = True, log_y = True)\n",
    "plot.show()"
   ]
  }
 ],
 "metadata": {
  "kernelspec": {
   "display_name": "Python 3.9.7 ('base')",
   "language": "python",
   "name": "python3"
  },
  "language_info": {
   "codemirror_mode": {
    "name": "ipython",
    "version": 3
   },
   "file_extension": ".py",
   "mimetype": "text/x-python",
   "name": "python",
   "nbconvert_exporter": "python",
   "pygments_lexer": "ipython3",
   "version": "3.9.7"
  },
  "orig_nbformat": 4,
  "vscode": {
   "interpreter": {
    "hash": "293b0e4ba064906a8557b4eaa242189f34a3eaea729f1289734fdcf46cd0b2b8"
   }
  }
 },
 "nbformat": 4,
 "nbformat_minor": 2
}
