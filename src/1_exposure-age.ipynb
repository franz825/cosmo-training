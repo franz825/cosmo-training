{
 "cells": [
  {
   "cell_type": "markdown",
   "metadata": {},
   "source": [
    "# Exposure age calculation\n",
    "\n",
    "## The concentration at the surface\n",
    "\n",
    "Cosmogenic radionuclides accumulate at the Earth surface and can be modelled as a function of exposure duration and erosion rates. In this notebook, we will explore these interactions. \n",
    "\n",
    "First, run the cell below to set the working environment (no need to understand these lines of code). If Google Colab warns about the trustfullness of the code, click on `Run anyway`."
   ]
  },
  {
   "cell_type": "code",
   "execution_count": 1,
   "metadata": {},
   "outputs": [],
   "source": [
    "# Import packages\n",
    "import matplotlib.pyplot as plt\n",
    "import numpy as np\n",
    "import pandas as pd\n",
    "import plotly.express as px\n",
    "from IPython.display import display\n",
    "from IPython import get_ipython\n",
    "import os, sys, platform, shutil\n",
    "\n",
    "# Define root directory according to current environment\n",
    "if 'google.colab' in str(get_ipython()):\n",
    "\n",
    "    dir_root = \"/content/cosmo-training\"\n",
    "\n",
    "    if os.path.exists(dir_root):\n",
    "      shutil.rmtree(dir_root)\n",
    "\n",
    "    !git clone https://github.com/franz825/cosmo-training\n",
    "\n",
    "else:\n",
    "    # Path to root directory (repository)\n",
    "    dir_root = os.path.dirname(sys.path[0])\n",
    "\n",
    "# Import custom functions for CRN computation\n",
    "sys.path.append(dir_root)\n",
    "from src.functions.get_parameters_values import get_parameters_values\n",
    "from src.functions.compute_surface_concentration import compute_surface_concentration\n",
    "from src.functions.compute_exposure_age import compute_exposure_age"
   ]
  },
  {
   "cell_type": "markdown",
   "metadata": {},
   "source": [
    "The parameters used as inputs to model cosmogenic nuclides are defined by the function `parameters_values()`.\n",
    "\n",
    "If needed, you can modify these values directly in the function `.py` file and re-run the notebook from the beginning."
   ]
  },
  {
   "cell_type": "code",
   "execution_count": null,
   "metadata": {},
   "outputs": [],
   "source": [
    "# Get parameters values defined in the function.\n",
    "p = get_parameters_values()\n",
    "display(p)"
   ]
  },
  {
   "cell_type": "markdown",
   "metadata": {},
   "source": [
    "To compute the <sup>10</sup>Be surface concentration, the equation below is used (Dunai, 2010). We asssume that exposure time is clocking since the onset of the erosion of the surface, with no pre-exposure memory.\n",
    "\n",
    "$$ C = \\frac{P}{\\lambda + \\frac{\\epsilon \\cdot \\rho}{\\Lambda}} \\cdot \\Bigg[1 - \\exp\\Bigg(-T_{exp} \\cdot \\Big(\\lambda + \\frac{\\epsilon \\cdot \\rho}{\\Lambda}\\Big)\\Bigg)\\Bigg] $$\n",
    "\n",
    "With:\n",
    "- $\\lambda$: Decay constant (1/yr)\n",
    "- $P$: Production rate (at/g/yr)\n",
    "- $\\rho$: Bulk density (g/cm³)\n",
    "- $\\Lambda$: Attenuation length (g/cm²)\n",
    "- $T_{exp}$: Exposure time (yr)\n",
    "- $\\epsilon:$ Erosion rate (cm/yr)\n",
    "\n",
    "Let's compute the <sup>10</sup>Be concentration of a surface eroding at 0.01 cm/yr (or 1 m/Ma) for 10,000 yr: "
   ]
  },
  {
   "cell_type": "code",
   "execution_count": null,
   "metadata": {},
   "outputs": [],
   "source": [
    "# 10Be concentration at the surface (at/g)\n",
    "erosion_rate = 0.01\n",
    "exposure_age = 100000\n",
    "\n",
    "concentration = compute_surface_concentration(erosion_rate, exposure_age, p)\n",
    "\n",
    "# Return the result\n",
    "print(concentration)"
   ]
  },
  {
   "cell_type": "markdown",
   "metadata": {},
   "source": [
    "Re-run the previous Python cell with other values of erosion rates and exposure ages to evaluate their impact on modelled <sup>10</sup>Be concentrations."
   ]
  },
  {
   "cell_type": "markdown",
   "metadata": {},
   "source": [
    "Let's now build a graph showing the relation between exposure age and <sup>10</sup>Be surface concentration for different values of erosion rates. \n",
    "Here below, you can define values of interest for erosion rate (cm/yr) and exposure age. "
   ]
  },
  {
   "cell_type": "code",
   "execution_count": null,
   "metadata": {},
   "outputs": [],
   "source": [
    "# Constant erosion rate of the surface (cm/yr)\n",
    "erosion_rates = [0.000001, 0.0001, 0.001, 0.03]\n",
    "\n",
    "# Vector containing the exposure ages (yr) to process\n",
    "exposure_ages = [1000, 2000, 5000, 10000, 20000, 30000, 50000, 100000, 200000, 300000, 400000, 500000, 1000000]\n",
    "\n",
    "# Print values\n",
    "print(\"Erosion rates (cm/yr): \")\n",
    "print(erosion_rates)\n",
    "print(\"Exposure ages (a): \")\n",
    "print(exposure_ages)"
   ]
  },
  {
   "cell_type": "markdown",
   "metadata": {},
   "source": [
    "Run the code below to compute the <sup>10</sup>Be concentration using a loop over the erosion rate and exposure age values defined above. "
   ]
  },
  {
   "cell_type": "code",
   "execution_count": null,
   "metadata": {},
   "outputs": [],
   "source": [
    "# Containers for 10Be concentrations results\n",
    "crn_table = pd.DataFrame({\"exposure_age\": exposure_ages})\n",
    "crn_plot = pd.DataFrame()\n",
    "\n",
    "# Loop within erosion rate values\n",
    "for i in range(len(erosion_rates)):\n",
    "\n",
    "    # Get current erosion rate\n",
    "    erosion_rate = erosion_rates[i]\n",
    "\n",
    "    # Array to contain CRN concentration for each \n",
    "    crn_concentrations = np.zeros(len(exposure_ages))\n",
    "\n",
    "    # Loop within exposure age values\n",
    "    for i in range(len(exposure_ages)): \n",
    "        \n",
    "        # Get current exposure age\n",
    "        exposure_age = exposure_ages[i]\n",
    "\n",
    "        # Compute 10Be concentration at the surface \n",
    "        Be_concentration = compute_surface_concentration(erosion_rate, exposure_age, p)\n",
    "\n",
    "        # Divide 10Be concentration by 1000 (and store in array\n",
    "        crn_concentrations[i] = Be_concentration\n",
    "\n",
    "    # Convert array of concentrations in a named serie\n",
    "    crn_concentrations = pd.Series(crn_concentrations, name = \"crn_conc_erate_\" + str(erosion_rate), dtype = 'Float64')\n",
    "    # Include array of concentrations in a complete dataframe\n",
    "    crn_df = pd.DataFrame({\"exposure_age\": exposure_ages, \"crn_concentration\": crn_concentrations, \"erosion_rate\": pd.Series(np.repeat(erosion_rate, len(exposure_ages)))})\n",
    "\n",
    "    # Collect concentrations formatted for plots\n",
    "    crn_plot = pd.concat([crn_plot, crn_df], axis = 0)\n",
    "    # Collect concentrations into pandas dataframe for csv export\n",
    "    crn_table = pd.concat([crn_table, crn_concentrations], axis = 1)"
   ]
  },
  {
   "cell_type": "markdown",
   "metadata": {},
   "source": [
    "Results are stored in two objects: `crn_table` that can be exported to .csv file for external use, and `crn_plot` that will be used below to plot the final graph."
   ]
  },
  {
   "cell_type": "code",
   "execution_count": null,
   "metadata": {},
   "outputs": [],
   "source": [
    "# Write results to csv file\n",
    "crn_table.to_csv(\"exposure_ages.csv\")\n",
    "\n",
    "# Print the table containing 10Be concentration for each exposure age\n",
    "display(crn_table)"
   ]
  },
  {
   "cell_type": "code",
   "execution_count": null,
   "metadata": {},
   "outputs": [],
   "source": [
    "# Convert erosion rate to m/Ma and coerce as string. \n",
    "crn_plot[\"erosion_rate\"] = crn_plot[\"erosion_rate\"] * 10000\n",
    "crn_plot[\"erosion_rate\"] = crn_plot[\"erosion_rate\"].astype(str)\n",
    "# Convert concentrations from at/g to 10^3 at/g.\n",
    "crn_plot[\"crn_concentration\"] = crn_plot[\"crn_concentration\"] / 1000\n",
    "\n",
    "# Plot 10Be concentrations for various erosion rates \n",
    "plot = px.scatter(crn_plot, x = \"exposure_age\", y = \"crn_concentration\", color = \"erosion_rate\", labels = dict(exposure_age = \"Exposure age (a)\", \n",
    "crn_concentration = \"Concentration (10<sup>3</sup> at/g)\", erosion_rate = \"Erosion rate (m /Ma)\"), log_x = True, log_y = True)\n",
    "plot.show()"
   ]
  },
  {
   "cell_type": "markdown",
   "metadata": {},
   "source": [
    "## The exposure dating\n",
    "\n",
    "We sample a shallow granite block (density = 2.7) and measure a <sup>10</sup>Be concentration of 100 x 10<sup>3</sup> at/g. Let's consider a production rate at sea level high latitude (SLHL) of 1 at/g/yr and the <sup>10</sup>Be half live of 1.37 x 10<sup>6</sup> yr. \n",
    "\n",
    "Exposure age can be written as follows: \n",
    "\n",
    "$$ T_{exp} = - \\frac{1}{\\lambda + \\frac{\\rho \\cdot \\epsilon}{\\Lambda}} \\cdot ln\\Bigg[ 1-\\frac{C \\cdot \\big(\\lambda + \\frac{\\rho \\cdot \\epsilon}{\\Lambda}\\big)}{P} \\Bigg] $$\n",
    "\n",
    "With:\n",
    "- $\\lambda$: Decay constant (1/yr)\n",
    "- $P$: Production rate (at/g/yr)\n",
    "- $\\rho$: Bulk density (g/cm³)\n",
    "- $\\Lambda$: Attenuation length (g/cm²)\n",
    "- $\\epsilon:$ Erosion rate (cm/yr)\n",
    "- $C$: Cosmogenic concentration (at/g)\n",
    "\n",
    "Using the function `compute_exposure_duration`, compute the exposure age for an erosion rate of 1, 2, 5, 10, and 50 m/Myr. \n",
    "\n",
    "How is the exposure age evolving in function of the erosion rate ? Why ?"
   ]
  },
  {
   "cell_type": "code",
   "execution_count": null,
   "metadata": {},
   "outputs": [],
   "source": [
    "# 10Be concentration measured in the sample (at/g)\n",
    "surface_concentration = 1000\n",
    "# Erosion rate (cm/yr)\n",
    "erosion_rate = 0.0001\n",
    "\n",
    "# Compute exposure age (yr)\n",
    "exposure_age = compute_exposure_age(surface_concentration, erosion_rate, p)\n",
    "\n",
    "print(exposure_age)"
   ]
  }
 ],
 "metadata": {
  "kernelspec": {
   "display_name": "Python 3.9.7 ('base')",
   "language": "python",
   "name": "python3"
  },
  "language_info": {
   "codemirror_mode": {
    "name": "ipython",
    "version": 3
   },
   "file_extension": ".py",
   "mimetype": "text/x-python",
   "name": "python",
   "nbconvert_exporter": "python",
   "pygments_lexer": "ipython3",
   "version": "3.9.7"
  },
  "orig_nbformat": 4,
  "vscode": {
   "interpreter": {
    "hash": "293b0e4ba064906a8557b4eaa242189f34a3eaea729f1289734fdcf46cd0b2b8"
   }
  }
 },
 "nbformat": 4,
 "nbformat_minor": 2
}
