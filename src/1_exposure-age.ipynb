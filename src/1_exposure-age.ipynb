{
 "cells": [
  {
   "cell_type": "markdown",
   "metadata": {},
   "source": [
    "# Exposure age calculation\n",
    "\n",
    "## Context\n",
    "\n",
    "A <sup>10</sup>Be concentration of 100 x 10<sup>3</sup> at/g characterizes a shallow bedrock sample, if we consider granite, density = 2.7). The production rate at sea level high latitude (SLHL) is 1 at/g/yr. <sup>10</sup>Be half live is 1.37 x 10<sup>6</sup> yr. \n",
    "\n",
    "The bedrock is characterized with:\n",
    "\n",
    "## Question 1\n",
    "\n",
    "Calculate the exposure age for an erosion rate of 1, 2, 5, 10, and 50 m/Myr. How is the exposure age evolving in function of the erosion rate ? Why ?"
   ]
  },
  {
   "cell_type": "code",
   "execution_count": 1,
   "metadata": {},
   "outputs": [],
   "source": [
    "# Import packages\n",
    "import matplotlib.pyplot as plt\n",
    "import numpy as np \n",
    "import os, sys, platform\n",
    "\n",
    "# Define root directory according to current environment\n",
    "if platform.node() != \"se22.156\":\n",
    "    !git clone https://github.com/franz825/cosmo-training\n",
    "    dir_root = \"/content/cosmo-training\"\n",
    "\n",
    "else:\n",
    "    # Path to root directory (repository)\n",
    "    dir_root = os.path.dirname(sys.path[0])\n",
    "\n",
    "# Import custom functions for CRN computation\n",
    "sys.path.append(dir_root)\n",
    "from src.functions.surface_concentration import surface_concentration\n"
   ]
  },
  {
   "cell_type": "markdown",
   "metadata": {},
   "source": [
    "Define variables"
   ]
  },
  {
   "cell_type": "code",
   "execution_count": 2,
   "metadata": {},
   "outputs": [],
   "source": [
    "age=[1000,10000,20000,30000, 50000, 100000,200000,300000,400000,500000,1000000]    "
   ]
  },
  {
   "cell_type": "markdown",
   "metadata": {},
   "source": []
  },
  {
   "cell_type": "code",
   "execution_count": 3,
   "metadata": {},
   "outputs": [
    {
     "name": "stdout",
     "output_type": "stream",
     "text": [
      "[4970.90354046    0.            0.            0.            0.\n",
      "    0.            0.            0.            0.            0.\n",
      "    0.        ]\n",
      "[ 4970.90354046 47189.52649979     0.             0.\n",
      "     0.             0.             0.             0.\n",
      "     0.             0.             0.        ]\n",
      "[ 4970.90354046 47189.52649979 89175.36615105     0.\n",
      "     0.             0.             0.             0.\n",
      "     0.             0.             0.        ]\n",
      "[  4970.90354046  47189.52649979  89175.36615105 126531.3402829\n",
      "      0.              0.              0.              0.\n",
      "      0.              0.              0.        ]\n",
      "[  4970.90354046  47189.52649979  89175.36615105 126531.3402829\n",
      " 189339.57259835      0.              0.              0.\n",
      "      0.              0.              0.        ]\n",
      "[  4970.90354046  47189.52649979  89175.36615105 126531.3402829\n",
      " 189339.57259835 294906.40933092      0.              0.\n",
      "      0.              0.              0.        ]\n",
      "[  4970.90354046  47189.52649979  89175.36615105 126531.3402829\n",
      " 189339.57259835 294906.40933092 386582.57549052      0.\n",
      "      0.              0.              0.        ]\n",
      "[  4970.90354046  47189.52649979  89175.36615105 126531.3402829\n",
      " 189339.57259835 294906.40933092 386582.57549052 415081.51337658\n",
      "      0.              0.              0.        ]\n",
      "[  4970.90354046  47189.52649979  89175.36615105 126531.3402829\n",
      " 189339.57259835 294906.40933092 386582.57549052 415081.51337658\n",
      " 423940.84393824      0.              0.        ]\n",
      "[  4970.90354046  47189.52649979  89175.36615105 126531.3402829\n",
      " 189339.57259835 294906.40933092 386582.57549052 415081.51337658\n",
      " 423940.84393824 426694.90229349      0.        ]\n",
      "[  4970.90354046  47189.52649979  89175.36615105 126531.3402829\n",
      " 189339.57259835 294906.40933092 386582.57549052 415081.51337658\n",
      " 423940.84393824 426694.90229349 427933.63787633]\n"
     ]
    }
   ],
   "source": [
    "conc_plot=np.zeros(11)\n",
    "\n",
    "for i in range(len(age)): \n",
    "    Be_concentration = surface_concentration(0.001,age[i])\n",
    "    conc_plot[i]=Be_concentration\n",
    "    print (conc_plot)\n",
    "for i in range(len(conc_plot)):\n",
    "    conc_plot[i]=conc_plot[i]/1000\n",
    "    "
   ]
  },
  {
   "cell_type": "markdown",
   "metadata": {},
   "source": [
    "Graph"
   ]
  },
  {
   "cell_type": "code",
   "execution_count": 4,
   "metadata": {},
   "outputs": [
    {
     "data": {
      "text/plain": [
       "Text(0, 0.5, 'Concentration (10$^3$ at/g)')"
      ]
     },
     "execution_count": 4,
     "metadata": {},
     "output_type": "execute_result"
    },
    {
     "data": {
      "image/png": "[encoded data removed]",
      "text/plain": [
       "<Figure size 432x288 with 1 Axes>"
      ]
     },
     "metadata": {
      "needs_background": "light"
     },
     "output_type": "display_data"
    }
   ],
   "source": [
    "plt.plot(age,conc_plot, 'o')\n",
    "plt.xlabel(\"Exposure age (Ma)\")\n",
    "plt.ylabel('Concentration (10$^3$ at/g)')"
   ]
  }
 ],
 "metadata": {
  "kernelspec": {
   "display_name": "Python 3.9.7 ('base')",
   "language": "python",
   "name": "python3"
  },
  "language_info": {
   "codemirror_mode": {
    "name": "ipython",
    "version": 3
   },
   "file_extension": ".py",
   "mimetype": "text/x-python",
   "name": "python",
   "nbconvert_exporter": "python",
   "pygments_lexer": "ipython3",
   "version": "3.9.7"
  },
  "orig_nbformat": 4,
  "vscode": {
   "interpreter": {
    "hash": "293b0e4ba064906a8557b4eaa242189f34a3eaea729f1289734fdcf46cd0b2b8"
   }
  }
 },
 "nbformat": 4,
 "nbformat_minor": 2
}
